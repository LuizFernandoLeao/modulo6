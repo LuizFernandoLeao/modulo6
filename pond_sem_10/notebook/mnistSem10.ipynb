{
  "nbformat": 4,
  "nbformat_minor": 0,
  "metadata": {
    "colab": {
      "provenance": []
    },
    "kernelspec": {
      "name": "python3",
      "display_name": "Python 3"
    },
    "language_info": {
      "name": "python"
    }
  },
  "cells": [
    {
      "cell_type": "markdown",
      "source": [
        "# Treinamento do modelo"
      ],
      "metadata": {
        "id": "Ipe97joRblX2"
      }
    },
    {
      "cell_type": "code",
      "source": [
        "from keras.datasets import mnist\n",
        "from keras.utils import to_categorical\n",
        "from keras.models import Sequential\n",
        "from keras.layers import Dense, Conv2D, MaxPool2D, Flatten, Dropout\n",
        "from keras.optimizers import Adam\n",
        "from tensorflow.keras.models import load_model\n",
        "import cv2\n",
        "import numpy as np\n",
        "\n",
        "\n",
        "\n",
        "(x_treino, y_treino), (x_teste, y_teste) = mnist.load_data()\n",
        "y_treino_cat = to_categorical(y_treino)\n",
        "y_teste_cat = to_categorical(y_teste)\n",
        "\n",
        "# Verificação da saída one-hot encoding\n",
        "print(y_treino[0])\n",
        "print(y_treino_cat[0])\n",
        "\n",
        "# Normalização dos dados de entrada\n",
        "x_treino_norm = x_treino/x_treino.max()\n",
        "x_teste_norm = x_teste/x_teste.max()\n",
        "x_treino = x_treino.reshape(len(x_treino), 28, 28, 1)\n",
        "x_treino_norm = x_treino_norm.reshape(len(x_treino_norm), 28, 28, 1)\n",
        "x_teste = x_teste.reshape(len(x_teste), 28, 28, 1)\n",
        "x_teste_norm = x_teste_norm.reshape(len(x_teste_norm), 28, 28, 1)\n",
        "\n",
        "\n",
        "\n",
        "# Criação do modelo\n",
        "model = Sequential()\n",
        "model.add(Conv2D(filters=32, kernel_size=(5,5), padding='same', activation='relu', input_shape=(28, 28, 1)))\n",
        "model.add(MaxPool2D(strides=2))\n",
        "model.add(Conv2D(filters=48, kernel_size=(5,5), padding='valid', activation='relu'))\n",
        "model.add(MaxPool2D(strides=2))\n",
        "model.add(Flatten())\n",
        "model.add(Dense(256, activation='relu'))\n",
        "model.add(Dense(84, activation='relu'))\n",
        "model.add(Dense(10, activation='softmax'))\n",
        "\n",
        "model.build()\n",
        "\n",
        "#Compila o modelo\n",
        "adam = Adam()\n",
        "model.compile(loss='categorical_crossentropy',\n",
        "              metrics=['accuracy'], optimizer=adam)\n",
        "\n",
        "# Realiza o treinamento do modelo\n",
        "historico = model.fit(x_treino_norm, y_treino_cat, epochs=12, validation_split=0.2)\n",
        "\n",
        "model.save('modelo_mnist.h5')\n"
      ],
      "metadata": {
        "colab": {
          "base_uri": "https://localhost:8080/"
        },
        "id": "3VEF7XNlavTe",
        "outputId": "8a88c1d7-7bcd-4a62-a48a-5b9dd365fdb5"
      },
      "execution_count": 3,
      "outputs": [
        {
          "output_type": "stream",
          "name": "stdout",
          "text": [
            "5\n",
            "[0. 0. 0. 0. 0. 1. 0. 0. 0. 0.]\n",
            "Epoch 1/12\n",
            "1500/1500 [==============================] - 63s 41ms/step - loss: 0.1382 - accuracy: 0.9578 - val_loss: 0.0500 - val_accuracy: 0.9855\n",
            "Epoch 2/12\n",
            "1500/1500 [==============================] - 58s 39ms/step - loss: 0.0441 - accuracy: 0.9865 - val_loss: 0.0507 - val_accuracy: 0.9853\n",
            "Epoch 3/12\n",
            "1500/1500 [==============================] - 54s 36ms/step - loss: 0.0303 - accuracy: 0.9903 - val_loss: 0.0426 - val_accuracy: 0.9884\n",
            "Epoch 4/12\n",
            "1500/1500 [==============================] - 54s 36ms/step - loss: 0.0230 - accuracy: 0.9925 - val_loss: 0.0389 - val_accuracy: 0.9895\n",
            "Epoch 5/12\n",
            "1500/1500 [==============================] - 55s 37ms/step - loss: 0.0188 - accuracy: 0.9942 - val_loss: 0.0475 - val_accuracy: 0.9868\n",
            "Epoch 6/12\n",
            "1500/1500 [==============================] - 53s 35ms/step - loss: 0.0140 - accuracy: 0.9955 - val_loss: 0.0352 - val_accuracy: 0.9922\n",
            "Epoch 7/12\n",
            "1500/1500 [==============================] - 51s 34ms/step - loss: 0.0126 - accuracy: 0.9959 - val_loss: 0.0350 - val_accuracy: 0.9920\n",
            "Epoch 8/12\n",
            "1500/1500 [==============================] - 54s 36ms/step - loss: 0.0126 - accuracy: 0.9962 - val_loss: 0.0337 - val_accuracy: 0.9912\n",
            "Epoch 9/12\n",
            "1500/1500 [==============================] - 51s 34ms/step - loss: 0.0090 - accuracy: 0.9972 - val_loss: 0.0524 - val_accuracy: 0.9890\n",
            "Epoch 10/12\n",
            "1500/1500 [==============================] - 52s 35ms/step - loss: 0.0095 - accuracy: 0.9971 - val_loss: 0.0492 - val_accuracy: 0.9902\n",
            "Epoch 11/12\n",
            "1500/1500 [==============================] - 55s 37ms/step - loss: 0.0074 - accuracy: 0.9977 - val_loss: 0.0502 - val_accuracy: 0.9893\n",
            "Epoch 12/12\n",
            "1500/1500 [==============================] - 54s 36ms/step - loss: 0.0087 - accuracy: 0.9973 - val_loss: 0.0495 - val_accuracy: 0.9902\n"
          ]
        }
      ]
    },
    {
      "cell_type": "markdown",
      "source": [
        "# Treinamento do modelo linear"
      ],
      "metadata": {
        "id": "OK-otxu7e-aZ"
      }
    },
    {
      "cell_type": "code",
      "execution_count": 2,
      "metadata": {
        "colab": {
          "base_uri": "https://localhost:8080/"
        },
        "id": "2tuGDGlIZZCo",
        "outputId": "226723ce-2bc6-4bd8-c3c9-42d3b5767bee"
      },
      "outputs": [
        {
          "output_type": "stream",
          "name": "stdout",
          "text": [
            "5\n",
            "[0. 0. 0. 0. 0. 1. 0. 0. 0. 0.]\n",
            "Epoch 1/12\n",
            "1500/1500 [==============================] - 14s 9ms/step - loss: 0.2578 - accuracy: 0.9212 - val_loss: 0.1319 - val_accuracy: 0.9613\n",
            "Epoch 2/12\n",
            "1500/1500 [==============================] - 14s 9ms/step - loss: 0.1218 - accuracy: 0.9626 - val_loss: 0.1037 - val_accuracy: 0.9697\n",
            "Epoch 3/12\n",
            "1500/1500 [==============================] - 12s 8ms/step - loss: 0.0927 - accuracy: 0.9715 - val_loss: 0.0966 - val_accuracy: 0.9723\n",
            "Epoch 4/12\n",
            "1500/1500 [==============================] - 13s 9ms/step - loss: 0.0770 - accuracy: 0.9772 - val_loss: 0.1121 - val_accuracy: 0.9693\n",
            "Epoch 5/12\n",
            "1500/1500 [==============================] - 14s 9ms/step - loss: 0.0665 - accuracy: 0.9805 - val_loss: 0.0833 - val_accuracy: 0.9760\n",
            "Epoch 6/12\n",
            "1500/1500 [==============================] - 14s 9ms/step - loss: 0.0593 - accuracy: 0.9822 - val_loss: 0.0870 - val_accuracy: 0.9769\n",
            "Epoch 7/12\n",
            "1500/1500 [==============================] - 13s 8ms/step - loss: 0.0527 - accuracy: 0.9839 - val_loss: 0.0825 - val_accuracy: 0.9766\n",
            "Epoch 8/12\n",
            "1500/1500 [==============================] - 14s 9ms/step - loss: 0.0470 - accuracy: 0.9853 - val_loss: 0.0860 - val_accuracy: 0.9778\n",
            "Epoch 9/12\n",
            "1500/1500 [==============================] - 13s 8ms/step - loss: 0.0405 - accuracy: 0.9873 - val_loss: 0.0815 - val_accuracy: 0.9798\n",
            "Epoch 10/12\n",
            "1500/1500 [==============================] - 15s 10ms/step - loss: 0.0415 - accuracy: 0.9871 - val_loss: 0.0938 - val_accuracy: 0.9779\n",
            "Epoch 11/12\n",
            "1500/1500 [==============================] - 13s 9ms/step - loss: 0.0371 - accuracy: 0.9890 - val_loss: 0.0912 - val_accuracy: 0.9773\n",
            "Epoch 12/12\n",
            "1500/1500 [==============================] - 12s 8ms/step - loss: 0.0381 - accuracy: 0.9883 - val_loss: 0.0928 - val_accuracy: 0.9780\n"
          ]
        }
      ],
      "source": [
        "from keras.datasets import mnist\n",
        "from keras.utils import to_categorical\n",
        "from keras.models import Sequential\n",
        "from keras.layers import Dense, Flatten, Dropout\n",
        "from keras.optimizers import Adam\n",
        "from tensorflow.keras.models import load_model\n",
        "import cv2\n",
        "import numpy as np\n",
        "\n",
        "\n",
        "(x_treino, y_treino), (x_teste, y_teste) = mnist.load_data()\n",
        "y_treino_cat = to_categorical(y_treino)\n",
        "y_teste_cat = to_categorical(y_teste)\n",
        "\n",
        "# Verificação da saída one-hot encoding\n",
        "print(y_treino[0])\n",
        "print(y_treino_cat[0])\n",
        "\n",
        "# Normalização dos dados de entrada\n",
        "x_treino_norm = x_treino / x_treino.max()\n",
        "x_teste_norm = x_teste / x_teste.max()\n",
        "x_treino_norm = x_treino_norm.reshape(len(x_treino_norm), 28 * 28)\n",
        "x_teste_norm = x_teste_norm.reshape(len(x_teste_norm), 28 * 28)\n",
        "\n",
        "\n",
        "# Criação do modelo\n",
        "model = Sequential()\n",
        "model.add(Dense(512, activation='relu', input_shape=(28 * 28,)))\n",
        "model.add(Dropout(0.2))\n",
        "model.add(Dense(256, activation='relu'))\n",
        "model.add(Dropout(0.2))\n",
        "model.add(Dense(128, activation='relu'))\n",
        "model.add(Dense(10, activation='softmax'))\n",
        "\n",
        "# Compila o modelo\n",
        "adam = Adam()\n",
        "model.compile(loss='categorical_crossentropy', metrics=['accuracy'], optimizer=adam)\n",
        "\n",
        "# Realiza o treinamento do modelo\n",
        "historico = model.fit(x_treino_norm, y_treino_cat, epochs=12, validation_split=0.2)\n",
        "\n",
        "model.save('mnist_linear.h5')\n"
      ]
    }
  ]
}